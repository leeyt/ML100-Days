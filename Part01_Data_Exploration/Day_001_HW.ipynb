{
 "cells": [
  {
   "cell_type": "markdown",
   "metadata": {},
   "source": [
    "# 作業1：\n",
    "\n",
    "**請上 Kaggle，在 Competitions 或 Dataset 中找一組競賽或資料並寫下：**\n",
    "\n",
    "1. 你選的這組資料為何重要？\n",
    "2. 資料從何而來？(Tip: 譬如提供者是誰？以何種方式蒐集？)\n",
    "3. 蒐集而來的資料型態為何？\n",
    "4. 這組資料想解決的問題如何評估？"
   ]
  },
  {
   "cell_type": "markdown",
   "metadata": {},
   "source": [
    "## 派大挑選的是 [Spooky Author Identification](https://www.kaggle.com/c/spooky-author-identification)\n",
    "\n",
    "1. 你選的這組資料為何重要？\n",
    "    > 有趣、正好想要學習語意分析等等...\n",
    "2. 資料從何而來？\n",
    "    > 挑選三位作家 (Edgar Allan Poe, Mary Shelley, and HP Lovecraft)，從公領域搜集他們的詩句，經過 Stanford Lab. API 處理短句\n",
    "3. 蒐集而來的資料型態為何？\n",
    "4. 這組資料想解決的問題如何評估？\n",
    "    > 識別作者是一個分類問題，所以可以用 Cross Entropy 來評估"
   ]
  },
  {
   "cell_type": "markdown",
   "metadata": {},
   "source": [
    "# 作業2：\n",
    "\n",
    "**想像你經營一個自由載客車隊，你希望能透過數據分析以提升業績，請你思考並描述你如何規劃整體的分析/解決方案？**\n",
    "\n",
    "1. 核心問題為何？(**Tip:** 如何定義「提升業績」& 你的假設)\n",
    "2. 資料從何而來？(**Tip:** 哪些資料可能會對你想問的問題產生影響 & 資料如何蒐集)\n",
    "3. 蒐集而來的資料型態為何？\n",
    "4. 你要回答的問題，其如何評估？(**Tip:** 你的假設如何驗證)"
   ]
  },
  {
   "cell_type": "markdown",
   "metadata": {},
   "source": [
    "# 作業3:\n",
    "\n",
    "## 請寫一個函式用來計算 Mean Squared Error\n",
    "\n",
    "$ MSE = \\frac{1}{n}\\sum_{i=1}^{n}{(Y_i - \\hat{Y}_i)^2} $\n",
    "\n",
    "**Hint:** [如何取平方](https://googoodesign.gitbooks.io/-ezpython/unit-1.html)"
   ]
  },
  {
   "cell_type": "code",
   "execution_count": 1,
   "metadata": {
    "ExecuteTime": {
     "end_time": "2019-02-27T09:11:58.842231Z",
     "start_time": "2019-02-27T09:11:58.477666Z"
    }
   },
   "outputs": [],
   "source": [
    "import numpy as np\n",
    "import matplotlib.pyplot as plt"
   ]
  },
  {
   "cell_type": "code",
   "execution_count": 2,
   "metadata": {
    "ExecuteTime": {
     "end_time": "2019-02-27T09:11:58.849162Z",
     "start_time": "2019-02-27T09:11:58.845126Z"
    }
   },
   "outputs": [],
   "source": [
    "def mean_squared_error(y, y_hat):\n",
    "    \"\"\"\n",
    "    計算 MSE\n",
    "    參數:\n",
    "        - y: 實際資料點\n",
    "        - y_hat: 預測資料點\n",
    "    回傳:\n",
    "        - Mean squared error\n",
    "    \"\"\"\n",
    "    return sum((y-y_hat)**2) / len(y)"
   ]
  },
  {
   "cell_type": "markdown",
   "metadata": {},
   "source": [
    "## 請寫一個函式用來計算 Mean Absolute Error\n",
    "\n",
    "$ MAE = \\frac{1}{n}\\sum_{i=1}^{n}{\\left|Y_i - \\hat{Y}_i\\right|} $"
   ]
  },
  {
   "cell_type": "code",
   "execution_count": 3,
   "metadata": {
    "ExecuteTime": {
     "end_time": "2019-02-27T09:11:58.872938Z",
     "start_time": "2019-02-27T09:11:58.855924Z"
    }
   },
   "outputs": [],
   "source": [
    "def mean_absolute_error(y, y_hat):\n",
    "    \"\"\"\n",
    "    計算 MAE\n",
    "    參數:\n",
    "        - y: 實際資料點\n",
    "        - y_hat: 預測資料點\n",
    "    回傳:\n",
    "        - Mean absolute error\n",
    "    \"\"\"\n",
    "    return sum(abs(y-y_hat)) / len(y)"
   ]
  },
  {
   "cell_type": "markdown",
   "metadata": {},
   "source": [
    "$w = 3$  \n",
    "$b = 0.5$  \n",
    "$y = w \\cdot (x + 5*\\epsilon) + b$"
   ]
  },
  {
   "cell_type": "code",
   "execution_count": 4,
   "metadata": {
    "ExecuteTime": {
     "end_time": "2019-02-27T09:11:58.900381Z",
     "start_time": "2019-02-27T09:11:58.883873Z"
    }
   },
   "outputs": [],
   "source": [
    "# 產生資料點 (假設線性關係，然後隨機加上些微誤差)\n",
    "w = 3\n",
    "b = 0.5\n",
    "\n",
    "x_lin = np.linspace(0, 100, 101)\n",
    "\n",
    "y = (x_lin + np.random.randn(101) * 5) * w + b"
   ]
  },
  {
   "cell_type": "code",
   "execution_count": 5,
   "metadata": {
    "ExecuteTime": {
     "end_time": "2019-02-27T09:11:59.239214Z",
     "start_time": "2019-02-27T09:11:58.909356Z"
    }
   },
   "outputs": [
    {
     "data": {
      "image/png": "[encoded data removed]",
      "text/plain": [
       "<matplotlib.figure.Figure at 0x113f8d240>"
      ]
     },
     "metadata": {},
     "output_type": "display_data"
    }
   ],
   "source": [
    "# Plot 資料點\n",
    "plt.plot(x_lin, y, 'b.', label = 'data points')\n",
    "plt.title(\"Assume we have data points\")\n",
    "plt.legend(loc = 2)\n",
    "plt.show()"
   ]
  },
  {
   "cell_type": "code",
   "execution_count": 6,
   "metadata": {
    "ExecuteTime": {
     "end_time": "2019-02-27T09:11:59.509897Z",
     "start_time": "2019-02-27T09:11:59.245501Z"
    }
   },
   "outputs": [
    {
     "data": {
      "image/png": "[encoded data removed]",
      "text/plain": [
       "<matplotlib.figure.Figure at 0x11c67dd30>"
      ]
     },
     "metadata": {},
     "output_type": "display_data"
    }
   ],
   "source": [
    "# 理想的線性模型\n",
    "y_hat = x_lin * w + b\n",
    "\n",
    "# Plot 資料點與模型線\n",
    "plt.plot(x_lin, y, 'b.', label = 'data')\n",
    "plt.plot(x_lin, y_hat, 'r-', label = 'prediction')\n",
    "plt.title(\"Assume we have data points (And the prediction)\")\n",
    "plt.legend(loc = 2)\n",
    "plt.show()"
   ]
  },
  {
   "cell_type": "code",
   "execution_count": 7,
   "metadata": {
    "ExecuteTime": {
     "end_time": "2019-02-27T09:11:59.542806Z",
     "start_time": "2019-02-27T09:11:59.520114Z"
    }
   },
   "outputs": [
    {
     "name": "stdout",
     "output_type": "stream",
     "text": [
      "The Mean squared error is 213.451\n",
      "The Mean absolute error is 11.915\n"
     ]
    }
   ],
   "source": [
    "# 執行 Function, 確認有沒有正常執行\n",
    "MSE = mean_squared_error(y, y_hat)\n",
    "MAE = mean_absolute_error(y, y_hat)\n",
    "print(\"The Mean squared error is %.3f\" % (MSE))\n",
    "print(\"The Mean absolute error is %.3f\" % (MAE))"
   ]
  }
 ],
 "metadata": {
  "anaconda-cloud": {},
  "kernelspec": {
   "display_name": "Python 3",
   "language": "python",
   "name": "python3"
  },
  "language_info": {
   "codemirror_mode": {
    "name": "ipython",
    "version": 3
   },
   "file_extension": ".py",
   "mimetype": "text/x-python",
   "name": "python",
   "nbconvert_exporter": "python",
   "pygments_lexer": "ipython3",
   "version": "3.6.3"
  },
  "toc": {
   "base_numbering": 1,
   "nav_menu": {},
   "number_sections": true,
   "sideBar": true,
   "skip_h1_title": false,
   "title_cell": "Table of Contents",
   "title_sidebar": "Contents",
   "toc_cell": false,
   "toc_position": {},
   "toc_section_display": true,
   "toc_window_display": false
  },
  "varInspector": {
   "cols": {
    "lenName": 16,
    "lenType": 16,
    "lenVar": 40
   },
   "kernels_config": {
    "python": {
     "delete_cmd_postfix": "",
     "delete_cmd_prefix": "del ",
     "library": "var_list.py",
     "varRefreshCmd": "print(var_dic_list())"
    },
    "r": {
     "delete_cmd_postfix": ") ",
     "delete_cmd_prefix": "rm(",
     "library": "var_list.r",
     "varRefreshCmd": "cat(var_dic_list()) "
    }
   },
   "types_to_exclude": [
    "module",
    "function",
    "builtin_function_or_method",
    "instance",
    "_Feature"
   ],
   "window_display": false
  }
 },
 "nbformat": 4,
 "nbformat_minor": 1
}
