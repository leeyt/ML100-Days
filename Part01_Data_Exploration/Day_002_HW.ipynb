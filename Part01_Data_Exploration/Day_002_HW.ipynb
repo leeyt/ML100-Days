{
 "cells": [
  {
   "cell_type": "markdown",
   "metadata": {},
   "source": [
    "## 練習時間\n",
    "資料的操作有很多，接下來的馬拉松中我們會介紹常被使用到的操作，參加者不妨先自行想像一下，第一次看到資料，我們一般會想知道什麼訊息？\n",
    "\n",
    "#### Ex: 如何知道資料的 row 數以及 column 數、有什麼欄位、多少欄位、如何截取部分的資料等等\n",
    "\n",
    "有了對資料的好奇之後，我們又怎麼通過程式碼來達成我們的目的呢？\n",
    "\n",
    "#### 可參考該[基礎教材](https://bookdata.readthedocs.io/en/latest/base/01_pandas.html#DataFrame-%E5%85%A5%E9%97%A8)或自行 google"
   ]
  },
  {
   "cell_type": "code",
   "execution_count": 1,
   "metadata": {
    "ExecuteTime": {
     "end_time": "2019-03-03T03:34:34.867735Z",
     "start_time": "2019-03-03T03:34:34.300783Z"
    }
   },
   "outputs": [],
   "source": [
    "import os\n",
    "import numpy as np\n",
    "import pandas as pd"
   ]
  },
  {
   "cell_type": "code",
   "execution_count": 2,
   "metadata": {
    "ExecuteTime": {
     "end_time": "2019-03-03T03:36:33.206942Z",
     "start_time": "2019-03-03T03:36:33.202191Z"
    }
   },
   "outputs": [],
   "source": [
    "# 設定 data_path\n",
    "dir_data = './data/'"
   ]
  },
  {
   "cell_type": "code",
   "execution_count": 3,
   "metadata": {
    "ExecuteTime": {
     "end_time": "2019-03-03T03:37:18.678582Z",
     "start_time": "2019-03-03T03:37:10.764505Z"
    }
   },
   "outputs": [
    {
     "name": "stdout",
     "output_type": "stream",
     "text": [
      "Path of read in data: ./data/application_train.csv\n"
     ]
    }
   ],
   "source": [
    "f_app = os.path.join(dir_data, 'application_train.csv')\n",
    "print('Path of read in data: %s' % (f_app))\n",
    "app_train = pd.read_csv(f_app)"
   ]
  },
  {
   "cell_type": "markdown",
   "metadata": {},
   "source": [
    "### 如果沒有想法，可以先嘗試找出剛剛例子中提到的問題的答案\n",
    "#### 資料的 row 數以及 column 數"
   ]
  },
  {
   "cell_type": "code",
   "execution_count": 4,
   "metadata": {
    "ExecuteTime": {
     "end_time": "2019-03-03T03:39:22.975584Z",
     "start_time": "2019-03-03T03:39:22.968688Z"
    }
   },
   "outputs": [
    {
     "name": "stdout",
     "output_type": "stream",
     "text": [
      "Number of rows in training data: 307511\n",
      "Number of cols in training data: 122\n"
     ]
    }
   ],
   "source": [
    "shape = app_train.shape\n",
    "print('Number of rows in training data: %s' % shape[0])\n",
    "print('Number of cols in training data: %s' % shape[1])"
   ]
  },
  {
   "cell_type": "markdown",
   "metadata": {},
   "source": [
    "#### 列出所有欄位"
   ]
  },
  {
   "cell_type": "code",
   "execution_count": 22,
   "metadata": {
    "ExecuteTime": {
     "end_time": "2019-03-03T03:50:42.493173Z",
     "start_time": "2019-03-03T03:50:42.422428Z"
    }
   },
   "outputs": [
    {
     "name": "stdout",
     "output_type": "stream",
     "text": [
      "0: SK_ID_CURR\n",
      "1: TARGET\n",
      "2: NAME_CONTRACT_TYPE\n",
      "3: CODE_GENDER\n",
      "4: FLAG_OWN_CAR\n",
      "\n",
      "5: FLAG_OWN_REALTY\n",
      "6: CNT_CHILDREN\n",
      "7: AMT_INCOME_TOTAL\n",
      "8: AMT_CREDIT\n",
      "9: AMT_ANNUITY\n",
      "\n",
      "10: AMT_GOODS_PRICE\n",
      "11: NAME_TYPE_SUITE\n",
      "12: NAME_INCOME_TYPE\n",
      "13: NAME_EDUCATION_TYPE\n",
      "14: NAME_FAMILY_STATUS\n",
      "\n",
      "15: NAME_HOUSING_TYPE\n",
      "16: REGION_POPULATION_RELATIVE\n",
      "17: DAYS_BIRTH\n",
      "18: DAYS_EMPLOYED\n",
      "19: DAYS_REGISTRATION\n",
      "\n",
      "20: DAYS_ID_PUBLISH\n",
      "21: OWN_CAR_AGE\n",
      "22: FLAG_MOBIL\n",
      "23: FLAG_EMP_PHONE\n",
      "24: FLAG_WORK_PHONE\n",
      "\n",
      "25: FLAG_CONT_MOBILE\n",
      "26: FLAG_PHONE\n",
      "27: FLAG_EMAIL\n",
      "28: OCCUPATION_TYPE\n",
      "29: CNT_FAM_MEMBERS\n",
      "\n",
      "30: REGION_RATING_CLIENT\n",
      "31: REGION_RATING_CLIENT_W_CITY\n",
      "32: WEEKDAY_APPR_PROCESS_START\n",
      "33: HOUR_APPR_PROCESS_START\n",
      "34: REG_REGION_NOT_LIVE_REGION\n",
      "\n",
      "35: REG_REGION_NOT_WORK_REGION\n",
      "36: LIVE_REGION_NOT_WORK_REGION\n",
      "37: REG_CITY_NOT_LIVE_CITY\n",
      "38: REG_CITY_NOT_WORK_CITY\n",
      "39: LIVE_CITY_NOT_WORK_CITY\n",
      "\n",
      "40: ORGANIZATION_TYPE\n",
      "41: EXT_SOURCE_1\n",
      "42: EXT_SOURCE_2\n",
      "43: EXT_SOURCE_3\n",
      "44: APARTMENTS_AVG\n",
      "\n",
      "45: BASEMENTAREA_AVG\n",
      "46: YEARS_BEGINEXPLUATATION_AVG\n",
      "47: YEARS_BUILD_AVG\n",
      "48: COMMONAREA_AVG\n",
      "49: ELEVATORS_AVG\n",
      "\n",
      "50: ENTRANCES_AVG\n",
      "51: FLOORSMAX_AVG\n",
      "52: FLOORSMIN_AVG\n",
      "53: LANDAREA_AVG\n",
      "54: LIVINGAPARTMENTS_AVG\n",
      "\n",
      "55: LIVINGAREA_AVG\n",
      "56: NONLIVINGAPARTMENTS_AVG\n",
      "57: NONLIVINGAREA_AVG\n",
      "58: APARTMENTS_MODE\n",
      "59: BASEMENTAREA_MODE\n",
      "\n",
      "60: YEARS_BEGINEXPLUATATION_MODE\n",
      "61: YEARS_BUILD_MODE\n",
      "62: COMMONAREA_MODE\n",
      "63: ELEVATORS_MODE\n",
      "64: ENTRANCES_MODE\n",
      "\n",
      "65: FLOORSMAX_MODE\n",
      "66: FLOORSMIN_MODE\n",
      "67: LANDAREA_MODE\n",
      "68: LIVINGAPARTMENTS_MODE\n",
      "69: LIVINGAREA_MODE\n",
      "\n",
      "70: NONLIVINGAPARTMENTS_MODE\n",
      "71: NONLIVINGAREA_MODE\n",
      "72: APARTMENTS_MEDI\n",
      "73: BASEMENTAREA_MEDI\n",
      "74: YEARS_BEGINEXPLUATATION_MEDI\n",
      "\n",
      "75: YEARS_BUILD_MEDI\n",
      "76: COMMONAREA_MEDI\n",
      "77: ELEVATORS_MEDI\n",
      "78: ENTRANCES_MEDI\n",
      "79: FLOORSMAX_MEDI\n",
      "\n",
      "80: FLOORSMIN_MEDI\n",
      "81: LANDAREA_MEDI\n",
      "82: LIVINGAPARTMENTS_MEDI\n",
      "83: LIVINGAREA_MEDI\n",
      "84: NONLIVINGAPARTMENTS_MEDI\n",
      "\n",
      "85: NONLIVINGAREA_MEDI\n",
      "86: FONDKAPREMONT_MODE\n",
      "87: HOUSETYPE_MODE\n",
      "88: TOTALAREA_MODE\n",
      "89: WALLSMATERIAL_MODE\n",
      "\n",
      "90: EMERGENCYSTATE_MODE\n",
      "91: OBS_30_CNT_SOCIAL_CIRCLE\n",
      "92: DEF_30_CNT_SOCIAL_CIRCLE\n",
      "93: OBS_60_CNT_SOCIAL_CIRCLE\n",
      "94: DEF_60_CNT_SOCIAL_CIRCLE\n",
      "\n",
      "95: DAYS_LAST_PHONE_CHANGE\n",
      "96: FLAG_DOCUMENT_2\n",
      "97: FLAG_DOCUMENT_3\n",
      "98: FLAG_DOCUMENT_4\n",
      "99: FLAG_DOCUMENT_5\n",
      "\n",
      "100: FLAG_DOCUMENT_6\n",
      "101: FLAG_DOCUMENT_7\n",
      "102: FLAG_DOCUMENT_8\n",
      "103: FLAG_DOCUMENT_9\n",
      "104: FLAG_DOCUMENT_10\n",
      "\n",
      "105: FLAG_DOCUMENT_11\n",
      "106: FLAG_DOCUMENT_12\n",
      "107: FLAG_DOCUMENT_13\n",
      "108: FLAG_DOCUMENT_14\n",
      "109: FLAG_DOCUMENT_15\n",
      "\n",
      "110: FLAG_DOCUMENT_16\n",
      "111: FLAG_DOCUMENT_17\n",
      "112: FLAG_DOCUMENT_18\n",
      "113: FLAG_DOCUMENT_19\n",
      "114: FLAG_DOCUMENT_20\n",
      "\n",
      "115: FLAG_DOCUMENT_21\n",
      "116: AMT_REQ_CREDIT_BUREAU_HOUR\n",
      "117: AMT_REQ_CREDIT_BUREAU_DAY\n",
      "118: AMT_REQ_CREDIT_BUREAU_WEEK\n",
      "119: AMT_REQ_CREDIT_BUREAU_MON\n",
      "\n",
      "120: AMT_REQ_CREDIT_BUREAU_QRT\n",
      "121: AMT_REQ_CREDIT_BUREAU_YEAR\n"
     ]
    }
   ],
   "source": [
    "columns = app_train.columns\n",
    "for i in range(len(columns)):\n",
    "    print('%d: %s' % (i, columns[i]))\n",
    "    if (i % 5 == 4):\n",
    "        print()"
   ]
  },
  {
   "cell_type": "markdown",
   "metadata": {},
   "source": [
    "#### 截取部分資料"
   ]
  },
  {
   "cell_type": "code",
   "execution_count": 31,
   "metadata": {
    "ExecuteTime": {
     "end_time": "2019-03-03T03:58:37.433255Z",
     "start_time": "2019-03-03T03:58:37.423053Z"
    }
   },
   "outputs": [
    {
     "name": "stdout",
     "output_type": "stream",
     "text": [
      "   SK_ID_CURR  TARGET CODE_GENDER  AMT_CREDIT\n",
      "0      100002       1           M    406597.5\n",
      "1      100003       0           F   1293502.5\n",
      "2      100004       0           M    135000.0\n",
      "3      100006       0           F    312682.5\n",
      "4      100007       0           M    513000.0\n"
     ]
    }
   ],
   "source": [
    "# 取部分欄位 (只顯示前 5 行)\n",
    "col_idx = [0, 1, 3, 8]\n",
    "print(app_train.iloc[:5,col_idx])"
   ]
  },
  {
   "cell_type": "markdown",
   "metadata": {},
   "source": [
    "#### 還有各種數之不盡的資料操作，重點還是取決於實務中遇到的狀況和你想問的問題，在馬拉松中我們也會陸續提到更多例子"
   ]
  },
  {
   "cell_type": "code",
   "execution_count": null,
   "metadata": {
    "collapsed": true
   },
   "outputs": [],
   "source": []
  }
 ],
 "metadata": {
  "kernelspec": {
   "display_name": "Python 3",
   "language": "python",
   "name": "python3"
  },
  "language_info": {
   "codemirror_mode": {
    "name": "ipython",
    "version": 3
   },
   "file_extension": ".py",
   "mimetype": "text/x-python",
   "name": "python",
   "nbconvert_exporter": "python",
   "pygments_lexer": "ipython3",
   "version": "3.6.3"
  },
  "toc": {
   "base_numbering": 1,
   "nav_menu": {},
   "number_sections": true,
   "sideBar": true,
   "skip_h1_title": false,
   "title_cell": "Table of Contents",
   "title_sidebar": "Contents",
   "toc_cell": false,
   "toc_position": {},
   "toc_section_display": true,
   "toc_window_display": false
  },
  "varInspector": {
   "cols": {
    "lenName": 16,
    "lenType": 16,
    "lenVar": 40
   },
   "kernels_config": {
    "python": {
     "delete_cmd_postfix": "",
     "delete_cmd_prefix": "del ",
     "library": "var_list.py",
     "varRefreshCmd": "print(var_dic_list())"
    },
    "r": {
     "delete_cmd_postfix": ") ",
     "delete_cmd_prefix": "rm(",
     "library": "var_list.r",
     "varRefreshCmd": "cat(var_dic_list()) "
    }
   },
   "types_to_exclude": [
    "module",
    "function",
    "builtin_function_or_method",
    "instance",
    "_Feature"
   ],
   "window_display": false
  }
 },
 "nbformat": 4,
 "nbformat_minor": 2
}
